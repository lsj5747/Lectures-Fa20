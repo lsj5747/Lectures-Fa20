{
 "cells": [
  {
   "cell_type": "markdown",
   "metadata": {
    "slideshow": {
     "slide_type": "slide"
    }
   },
   "source": [
    "# Data Intuition (Cont'd)\n",
    "\n",
    "Putting it all together:\n",
    "- pandas\n",
    "- data wrangling\n",
    "- data intuition\n",
    "- descriptive statistics\n",
    "- wisdom of the crowds\n",
    "\n",
    "We'll use your responses to the Fermi estimation Google Form to do this."
   ]
  },
  {
   "cell_type": "markdown",
   "metadata": {
    "slideshow": {
     "slide_type": "slide"
    }
   },
   "source": [
    "## Setup"
   ]
  },
  {
   "cell_type": "code",
   "execution_count": 1,
   "metadata": {
    "slideshow": {
     "slide_type": "-"
    }
   },
   "outputs": [],
   "source": [
    "# import working with data libraries\n",
    "import pandas as pd\n",
    "import numpy as np"
   ]
  },
  {
   "cell_type": "markdown",
   "metadata": {
    "slideshow": {
     "slide_type": "slide"
    }
   },
   "source": [
    "## The Data"
   ]
  },
  {
   "cell_type": "code",
   "execution_count": 2,
   "metadata": {
    "slideshow": {
     "slide_type": "-"
    }
   },
   "outputs": [],
   "source": [
    "# read data into Python\n",
    "df = pd.read_csv('data/fermi_fa20.csv')"
   ]
  },
  {
   "cell_type": "code",
   "execution_count": 3,
   "metadata": {
    "scrolled": false,
    "slideshow": {
     "slide_type": "fragment"
    }
   },
   "outputs": [
    {
     "data": {
      "text/html": [
       "<div>\n",
       "<style scoped>\n",
       "    .dataframe tbody tr th:only-of-type {\n",
       "        vertical-align: middle;\n",
       "    }\n",
       "\n",
       "    .dataframe tbody tr th {\n",
       "        vertical-align: top;\n",
       "    }\n",
       "\n",
       "    .dataframe thead th {\n",
       "        text-align: right;\n",
       "    }\n",
       "</style>\n",
       "<table border=\"1\" class=\"dataframe\">\n",
       "  <thead>\n",
       "    <tr style=\"text-align: right;\">\n",
       "      <th></th>\n",
       "      <th>Timestamp</th>\n",
       "      <th>How fast does human hair grow (cm/yr)?</th>\n",
       "      <th>If every living person stood crammed together side-by-side, how large of an area would they occupy (km²)?</th>\n",
       "      <th>How many days would it take to walk from here to New York City (assuming no stopping to fix shoes, apply sunscreen, or for sleeping, eating, or other biological needs)?</th>\n",
       "    </tr>\n",
       "  </thead>\n",
       "  <tbody>\n",
       "    <tr>\n",
       "      <th>0</th>\n",
       "      <td>10/10/20 2:37</td>\n",
       "      <td>20</td>\n",
       "      <td>3500000</td>\n",
       "      <td>10</td>\n",
       "    </tr>\n",
       "    <tr>\n",
       "      <th>1</th>\n",
       "      <td>10/10/20 13:16</td>\n",
       "      <td>25</td>\n",
       "      <td>1 million</td>\n",
       "      <td>50</td>\n",
       "    </tr>\n",
       "    <tr>\n",
       "      <th>2</th>\n",
       "      <td>10/10/20 13:45</td>\n",
       "      <td>10^3 cm/yr</td>\n",
       "      <td>10^7 km^2</td>\n",
       "      <td>10^4</td>\n",
       "    </tr>\n",
       "    <tr>\n",
       "      <th>3</th>\n",
       "      <td>10/10/20 13:52</td>\n",
       "      <td>6cm/yr</td>\n",
       "      <td>1000km^2</td>\n",
       "      <td>200 days</td>\n",
       "    </tr>\n",
       "    <tr>\n",
       "      <th>4</th>\n",
       "      <td>10/10/20 14:18</td>\n",
       "      <td>81</td>\n",
       "      <td>16875000000</td>\n",
       "      <td>28000</td>\n",
       "    </tr>\n",
       "    <tr>\n",
       "      <th>...</th>\n",
       "      <td>...</td>\n",
       "      <td>...</td>\n",
       "      <td>...</td>\n",
       "      <td>...</td>\n",
       "    </tr>\n",
       "    <tr>\n",
       "      <th>186</th>\n",
       "      <td>10/16/20 18:00</td>\n",
       "      <td>12</td>\n",
       "      <td>650</td>\n",
       "      <td>42 (I'm assuming \"here\" means ucsd)</td>\n",
       "    </tr>\n",
       "    <tr>\n",
       "      <th>187</th>\n",
       "      <td>10/16/20 20:05</td>\n",
       "      <td>10</td>\n",
       "      <td>2500000</td>\n",
       "      <td>1000</td>\n",
       "    </tr>\n",
       "    <tr>\n",
       "      <th>188</th>\n",
       "      <td>10/16/20 22:32</td>\n",
       "      <td>7</td>\n",
       "      <td>100000</td>\n",
       "      <td>240</td>\n",
       "    </tr>\n",
       "    <tr>\n",
       "      <th>189</th>\n",
       "      <td>10/16/20 23:04</td>\n",
       "      <td>20</td>\n",
       "      <td>500000</td>\n",
       "      <td>40</td>\n",
       "    </tr>\n",
       "    <tr>\n",
       "      <th>190</th>\n",
       "      <td>10/22/20 0:47</td>\n",
       "      <td>10^1 cm</td>\n",
       "      <td>10^9</td>\n",
       "      <td>10^2</td>\n",
       "    </tr>\n",
       "  </tbody>\n",
       "</table>\n",
       "<p>191 rows × 4 columns</p>\n",
       "</div>"
      ],
      "text/plain": [
       "          Timestamp How fast does human hair grow (cm/yr)?  \\\n",
       "0     10/10/20 2:37                                     20   \n",
       "1    10/10/20 13:16                                     25   \n",
       "2    10/10/20 13:45                             10^3 cm/yr   \n",
       "3    10/10/20 13:52                                 6cm/yr   \n",
       "4    10/10/20 14:18                                     81   \n",
       "..              ...                                    ...   \n",
       "186  10/16/20 18:00                                     12   \n",
       "187  10/16/20 20:05                                     10   \n",
       "188  10/16/20 22:32                                      7   \n",
       "189  10/16/20 23:04                                     20   \n",
       "190   10/22/20 0:47                                10^1 cm   \n",
       "\n",
       "    If every living person stood crammed together side-by-side, how large of an area would they occupy (km²)?  \\\n",
       "0                                              3500000                                                          \n",
       "1                                            1 million                                                          \n",
       "2                                            10^7 km^2                                                          \n",
       "3                                             1000km^2                                                          \n",
       "4                                          16875000000                                                          \n",
       "..                                                 ...                                                          \n",
       "186                                                650                                                          \n",
       "187                                            2500000                                                          \n",
       "188                                             100000                                                          \n",
       "189                                             500000                                                          \n",
       "190                                               10^9                                                          \n",
       "\n",
       "    How many days would it take to walk from here to New York City (assuming no stopping to fix shoes, apply sunscreen, or for sleeping, eating, or other biological needs)?  \n",
       "0                                                   10                                                                                                                        \n",
       "1                                                   50                                                                                                                        \n",
       "2                                                 10^4                                                                                                                        \n",
       "3                                            200 days                                                                                                                         \n",
       "4                                                28000                                                                                                                        \n",
       "..                                                 ...                                                                                                                        \n",
       "186                42 (I'm assuming \"here\" means ucsd)                                                                                                                        \n",
       "187                                               1000                                                                                                                        \n",
       "188                                                240                                                                                                                        \n",
       "189                                                 40                                                                                                                        \n",
       "190                                               10^2                                                                                                                        \n",
       "\n",
       "[191 rows x 4 columns]"
      ]
     },
     "execution_count": 3,
     "metadata": {},
     "output_type": "execute_result"
    }
   ],
   "source": [
    "# take a look at the data\n",
    "df"
   ]
  },
  {
   "cell_type": "markdown",
   "metadata": {
    "slideshow": {
     "slide_type": "slide"
    }
   },
   "source": [
    "## Data Cleaning & Wrangling\n",
    "\n",
    "Tidy Data Rules (Review):\n",
    "1. Every observation in a row\n",
    "2. Every variable in a column\n",
    "3. If multiple tables, column on which to merge"
   ]
  },
  {
   "cell_type": "markdown",
   "metadata": {
    "slideshow": {
     "slide_type": "slide"
    }
   },
   "source": [
    "### Thought Question #1\n",
    "\n",
    "Are these data in the tidy data format?\n",
    "\n",
    "- A) Yes, these data are ready to analyze\n",
    "- B) Yes, but there is more work to do before analysis\n",
    "- C) No, not tidy\n",
    "- D) Have no idea what you're talking about"
   ]
  },
  {
   "cell_type": "markdown",
   "metadata": {
    "slideshow": {
     "slide_type": "slide"
    }
   },
   "source": [
    "## Brainstorming\n",
    "\n",
    "What considerations do we have to make about these data?\n",
    "\n",
    "- handling non-numeric answers (i.e. \"lots\")\n",
    "- handle units in answer\n",
    "- unreasonably large/small number (outliers)? (not thoughtful, or joking)\n",
    "- scientific notation"
   ]
  },
  {
   "cell_type": "code",
   "execution_count": 4,
   "metadata": {
    "scrolled": true,
    "slideshow": {
     "slide_type": "slide"
    }
   },
   "outputs": [
    {
     "data": {
      "text/html": [
       "<div>\n",
       "<style scoped>\n",
       "    .dataframe tbody tr th:only-of-type {\n",
       "        vertical-align: middle;\n",
       "    }\n",
       "\n",
       "    .dataframe tbody tr th {\n",
       "        vertical-align: top;\n",
       "    }\n",
       "\n",
       "    .dataframe thead th {\n",
       "        text-align: right;\n",
       "    }\n",
       "</style>\n",
       "<table border=\"1\" class=\"dataframe\">\n",
       "  <thead>\n",
       "    <tr style=\"text-align: right;\">\n",
       "      <th></th>\n",
       "      <th>timestamp</th>\n",
       "      <th>hair_growth</th>\n",
       "      <th>crammed</th>\n",
       "      <th>SAN_NYC</th>\n",
       "    </tr>\n",
       "  </thead>\n",
       "  <tbody>\n",
       "    <tr>\n",
       "      <th>0</th>\n",
       "      <td>10/10/20 2:37</td>\n",
       "      <td>20</td>\n",
       "      <td>3500000</td>\n",
       "      <td>10</td>\n",
       "    </tr>\n",
       "    <tr>\n",
       "      <th>1</th>\n",
       "      <td>10/10/20 13:16</td>\n",
       "      <td>25</td>\n",
       "      <td>1 million</td>\n",
       "      <td>50</td>\n",
       "    </tr>\n",
       "    <tr>\n",
       "      <th>2</th>\n",
       "      <td>10/10/20 13:45</td>\n",
       "      <td>10^3 cm/yr</td>\n",
       "      <td>10^7 km^2</td>\n",
       "      <td>10^4</td>\n",
       "    </tr>\n",
       "    <tr>\n",
       "      <th>3</th>\n",
       "      <td>10/10/20 13:52</td>\n",
       "      <td>6cm/yr</td>\n",
       "      <td>1000km^2</td>\n",
       "      <td>200 days</td>\n",
       "    </tr>\n",
       "    <tr>\n",
       "      <th>4</th>\n",
       "      <td>10/10/20 14:18</td>\n",
       "      <td>81</td>\n",
       "      <td>16875000000</td>\n",
       "      <td>28000</td>\n",
       "    </tr>\n",
       "  </tbody>\n",
       "</table>\n",
       "</div>"
      ],
      "text/plain": [
       "        timestamp hair_growth      crammed    SAN_NYC\n",
       "0   10/10/20 2:37          20      3500000         10\n",
       "1  10/10/20 13:16          25    1 million         50\n",
       "2  10/10/20 13:45  10^3 cm/yr    10^7 km^2       10^4\n",
       "3  10/10/20 13:52      6cm/yr     1000km^2  200 days \n",
       "4  10/10/20 14:18          81  16875000000      28000"
      ]
     },
     "execution_count": 4,
     "metadata": {},
     "output_type": "execute_result"
    }
   ],
   "source": [
    "# change column names\n",
    "df.columns = ['timestamp', 'hair_growth', 'crammed', 'SAN_NYC']\n",
    "df.head()"
   ]
  },
  {
   "cell_type": "code",
   "execution_count": 5,
   "metadata": {
    "scrolled": true,
    "slideshow": {
     "slide_type": "slide"
    }
   },
   "outputs": [
    {
     "data": {
      "text/plain": [
       "timestamp      object\n",
       "hair_growth    object\n",
       "crammed        object\n",
       "SAN_NYC        object\n",
       "dtype: object"
      ]
     },
     "execution_count": 5,
     "metadata": {},
     "output_type": "execute_result"
    }
   ],
   "source": [
    "# check type of each Series (column)\n",
    "df.dtypes"
   ]
  },
  {
   "cell_type": "code",
   "execution_count": 6,
   "metadata": {
    "scrolled": true,
    "slideshow": {
     "slide_type": "slide"
    }
   },
   "outputs": [
    {
     "ename": "TypeError",
     "evalue": "",
     "output_type": "error",
     "traceback": [
      "\u001b[0;31m---------------------------------------------------------------------------\u001b[0m",
      "\u001b[0;31mValueError\u001b[0m                                Traceback (most recent call last)",
      "\u001b[0;32m/anaconda3/envs/cogs18/lib/python3.7/site-packages/pandas/core/nanops.py\u001b[0m in \u001b[0;36mnanmedian\u001b[0;34m(values, axis, skipna, mask)\u001b[0m\n\u001b[1;32m    612\u001b[0m         \u001b[0;32mtry\u001b[0m\u001b[0;34m:\u001b[0m\u001b[0;34m\u001b[0m\u001b[0;34m\u001b[0m\u001b[0m\n\u001b[0;32m--> 613\u001b[0;31m             \u001b[0mvalues\u001b[0m \u001b[0;34m=\u001b[0m \u001b[0mvalues\u001b[0m\u001b[0;34m.\u001b[0m\u001b[0mastype\u001b[0m\u001b[0;34m(\u001b[0m\u001b[0;34m\"f8\"\u001b[0m\u001b[0;34m)\u001b[0m\u001b[0;34m\u001b[0m\u001b[0;34m\u001b[0m\u001b[0m\n\u001b[0m\u001b[1;32m    614\u001b[0m         \u001b[0;32mexcept\u001b[0m \u001b[0mValueError\u001b[0m \u001b[0;32mas\u001b[0m \u001b[0merr\u001b[0m\u001b[0;34m:\u001b[0m\u001b[0;34m\u001b[0m\u001b[0;34m\u001b[0m\u001b[0m\n",
      "\u001b[0;31mValueError\u001b[0m: could not convert string to float: '10^3 cm/yr'",
      "\nThe above exception was the direct cause of the following exception:\n",
      "\u001b[0;31mTypeError\u001b[0m                                 Traceback (most recent call last)",
      "\u001b[0;32m<ipython-input-6-b84535065261>\u001b[0m in \u001b[0;36m<module>\u001b[0;34m\u001b[0m\n\u001b[1;32m      1\u001b[0m \u001b[0;31m# this cell will produce an error\u001b[0m\u001b[0;34m\u001b[0m\u001b[0;34m\u001b[0m\u001b[0;34m\u001b[0m\u001b[0m\n\u001b[0;32m----> 2\u001b[0;31m \u001b[0mdf\u001b[0m\u001b[0;34m[\u001b[0m\u001b[0;34m'hair_growth'\u001b[0m\u001b[0;34m]\u001b[0m\u001b[0;34m.\u001b[0m\u001b[0mmedian\u001b[0m\u001b[0;34m(\u001b[0m\u001b[0;34m)\u001b[0m\u001b[0;34m\u001b[0m\u001b[0;34m\u001b[0m\u001b[0m\n\u001b[0m",
      "\u001b[0;32m/anaconda3/envs/cogs18/lib/python3.7/site-packages/pandas/core/generic.py\u001b[0m in \u001b[0;36mstat_func\u001b[0;34m(self, axis, skipna, level, numeric_only, **kwargs)\u001b[0m\n\u001b[1;32m  11458\u001b[0m             \u001b[0;32mreturn\u001b[0m \u001b[0mself\u001b[0m\u001b[0;34m.\u001b[0m\u001b[0m_agg_by_level\u001b[0m\u001b[0;34m(\u001b[0m\u001b[0mname\u001b[0m\u001b[0;34m,\u001b[0m \u001b[0maxis\u001b[0m\u001b[0;34m=\u001b[0m\u001b[0maxis\u001b[0m\u001b[0;34m,\u001b[0m \u001b[0mlevel\u001b[0m\u001b[0;34m=\u001b[0m\u001b[0mlevel\u001b[0m\u001b[0;34m,\u001b[0m \u001b[0mskipna\u001b[0m\u001b[0;34m=\u001b[0m\u001b[0mskipna\u001b[0m\u001b[0;34m)\u001b[0m\u001b[0;34m\u001b[0m\u001b[0;34m\u001b[0m\u001b[0m\n\u001b[1;32m  11459\u001b[0m         return self._reduce(\n\u001b[0;32m> 11460\u001b[0;31m             \u001b[0mfunc\u001b[0m\u001b[0;34m,\u001b[0m \u001b[0mname\u001b[0m\u001b[0;34m=\u001b[0m\u001b[0mname\u001b[0m\u001b[0;34m,\u001b[0m \u001b[0maxis\u001b[0m\u001b[0;34m=\u001b[0m\u001b[0maxis\u001b[0m\u001b[0;34m,\u001b[0m \u001b[0mskipna\u001b[0m\u001b[0;34m=\u001b[0m\u001b[0mskipna\u001b[0m\u001b[0;34m,\u001b[0m \u001b[0mnumeric_only\u001b[0m\u001b[0;34m=\u001b[0m\u001b[0mnumeric_only\u001b[0m\u001b[0;34m\u001b[0m\u001b[0;34m\u001b[0m\u001b[0m\n\u001b[0m\u001b[1;32m  11461\u001b[0m         )\n\u001b[1;32m  11462\u001b[0m \u001b[0;34m\u001b[0m\u001b[0m\n",
      "\u001b[0;32m/anaconda3/envs/cogs18/lib/python3.7/site-packages/pandas/core/series.py\u001b[0m in \u001b[0;36m_reduce\u001b[0;34m(self, op, name, axis, skipna, numeric_only, filter_type, **kwds)\u001b[0m\n\u001b[1;32m   4234\u001b[0m                 )\n\u001b[1;32m   4235\u001b[0m             \u001b[0;32mwith\u001b[0m \u001b[0mnp\u001b[0m\u001b[0;34m.\u001b[0m\u001b[0merrstate\u001b[0m\u001b[0;34m(\u001b[0m\u001b[0mall\u001b[0m\u001b[0;34m=\u001b[0m\u001b[0;34m\"ignore\"\u001b[0m\u001b[0;34m)\u001b[0m\u001b[0;34m:\u001b[0m\u001b[0;34m\u001b[0m\u001b[0;34m\u001b[0m\u001b[0m\n\u001b[0;32m-> 4236\u001b[0;31m                 \u001b[0;32mreturn\u001b[0m \u001b[0mop\u001b[0m\u001b[0;34m(\u001b[0m\u001b[0mdelegate\u001b[0m\u001b[0;34m,\u001b[0m \u001b[0mskipna\u001b[0m\u001b[0;34m=\u001b[0m\u001b[0mskipna\u001b[0m\u001b[0;34m,\u001b[0m \u001b[0;34m**\u001b[0m\u001b[0mkwds\u001b[0m\u001b[0;34m)\u001b[0m\u001b[0;34m\u001b[0m\u001b[0;34m\u001b[0m\u001b[0m\n\u001b[0m\u001b[1;32m   4237\u001b[0m \u001b[0;34m\u001b[0m\u001b[0m\n\u001b[1;32m   4238\u001b[0m     \u001b[0;32mdef\u001b[0m \u001b[0m_reindex_indexer\u001b[0m\u001b[0;34m(\u001b[0m\u001b[0mself\u001b[0m\u001b[0;34m,\u001b[0m \u001b[0mnew_index\u001b[0m\u001b[0;34m,\u001b[0m \u001b[0mindexer\u001b[0m\u001b[0;34m,\u001b[0m \u001b[0mcopy\u001b[0m\u001b[0;34m)\u001b[0m\u001b[0;34m:\u001b[0m\u001b[0;34m\u001b[0m\u001b[0;34m\u001b[0m\u001b[0m\n",
      "\u001b[0;32m/anaconda3/envs/cogs18/lib/python3.7/site-packages/pandas/core/nanops.py\u001b[0m in \u001b[0;36mf\u001b[0;34m(values, axis, skipna, **kwds)\u001b[0m\n\u001b[1;32m    127\u001b[0m                     \u001b[0mresult\u001b[0m \u001b[0;34m=\u001b[0m \u001b[0malt\u001b[0m\u001b[0;34m(\u001b[0m\u001b[0mvalues\u001b[0m\u001b[0;34m,\u001b[0m \u001b[0maxis\u001b[0m\u001b[0;34m=\u001b[0m\u001b[0maxis\u001b[0m\u001b[0;34m,\u001b[0m \u001b[0mskipna\u001b[0m\u001b[0;34m=\u001b[0m\u001b[0mskipna\u001b[0m\u001b[0;34m,\u001b[0m \u001b[0;34m**\u001b[0m\u001b[0mkwds\u001b[0m\u001b[0;34m)\u001b[0m\u001b[0;34m\u001b[0m\u001b[0;34m\u001b[0m\u001b[0m\n\u001b[1;32m    128\u001b[0m             \u001b[0;32melse\u001b[0m\u001b[0;34m:\u001b[0m\u001b[0;34m\u001b[0m\u001b[0;34m\u001b[0m\u001b[0m\n\u001b[0;32m--> 129\u001b[0;31m                 \u001b[0mresult\u001b[0m \u001b[0;34m=\u001b[0m \u001b[0malt\u001b[0m\u001b[0;34m(\u001b[0m\u001b[0mvalues\u001b[0m\u001b[0;34m,\u001b[0m \u001b[0maxis\u001b[0m\u001b[0;34m=\u001b[0m\u001b[0maxis\u001b[0m\u001b[0;34m,\u001b[0m \u001b[0mskipna\u001b[0m\u001b[0;34m=\u001b[0m\u001b[0mskipna\u001b[0m\u001b[0;34m,\u001b[0m \u001b[0;34m**\u001b[0m\u001b[0mkwds\u001b[0m\u001b[0;34m)\u001b[0m\u001b[0;34m\u001b[0m\u001b[0;34m\u001b[0m\u001b[0m\n\u001b[0m\u001b[1;32m    130\u001b[0m \u001b[0;34m\u001b[0m\u001b[0m\n\u001b[1;32m    131\u001b[0m             \u001b[0;32mreturn\u001b[0m \u001b[0mresult\u001b[0m\u001b[0;34m\u001b[0m\u001b[0;34m\u001b[0m\u001b[0m\n",
      "\u001b[0;32m/anaconda3/envs/cogs18/lib/python3.7/site-packages/pandas/core/nanops.py\u001b[0m in \u001b[0;36mnanmedian\u001b[0;34m(values, axis, skipna, mask)\u001b[0m\n\u001b[1;32m    614\u001b[0m         \u001b[0;32mexcept\u001b[0m \u001b[0mValueError\u001b[0m \u001b[0;32mas\u001b[0m \u001b[0merr\u001b[0m\u001b[0;34m:\u001b[0m\u001b[0;34m\u001b[0m\u001b[0;34m\u001b[0m\u001b[0m\n\u001b[1;32m    615\u001b[0m             \u001b[0;31m# e.g. \"could not convert string to float: 'a'\"\u001b[0m\u001b[0;34m\u001b[0m\u001b[0;34m\u001b[0m\u001b[0;34m\u001b[0m\u001b[0m\n\u001b[0;32m--> 616\u001b[0;31m             \u001b[0;32mraise\u001b[0m \u001b[0mTypeError\u001b[0m \u001b[0;32mfrom\u001b[0m \u001b[0merr\u001b[0m\u001b[0;34m\u001b[0m\u001b[0;34m\u001b[0m\u001b[0m\n\u001b[0m\u001b[1;32m    617\u001b[0m         \u001b[0;32mif\u001b[0m \u001b[0mmask\u001b[0m \u001b[0;32mis\u001b[0m \u001b[0;32mnot\u001b[0m \u001b[0;32mNone\u001b[0m\u001b[0;34m:\u001b[0m\u001b[0;34m\u001b[0m\u001b[0;34m\u001b[0m\u001b[0m\n\u001b[1;32m    618\u001b[0m             \u001b[0mvalues\u001b[0m\u001b[0;34m[\u001b[0m\u001b[0mmask\u001b[0m\u001b[0;34m]\u001b[0m \u001b[0;34m=\u001b[0m \u001b[0mnp\u001b[0m\u001b[0;34m.\u001b[0m\u001b[0mnan\u001b[0m\u001b[0;34m\u001b[0m\u001b[0;34m\u001b[0m\u001b[0m\n",
      "\u001b[0;31mTypeError\u001b[0m: "
     ]
    }
   ],
   "source": [
    "# this cell will produce an error\n",
    "df['hair_growth'].median()"
   ]
  },
  {
   "cell_type": "markdown",
   "metadata": {
    "slideshow": {
     "slide_type": "slide"
    }
   },
   "source": [
    "## Cleaning: Hair Growth\n",
    "\n",
    "How fast does human hair grow (cm/yr)?"
   ]
  },
  {
   "cell_type": "code",
   "execution_count": 7,
   "metadata": {
    "slideshow": {
     "slide_type": "fragment"
    }
   },
   "outputs": [
    {
     "data": {
      "text/plain": [
       "array(['20', '25', '10^3 cm/yr', '6cm/yr', '81', '15', '10^2', '3',\n",
       "       '10 cm/yr', '12', '30', '5', '100', '10', '24', '10^1', '19',\n",
       "       '16 cm/yr', '17', '48 cm/yr', '10cm/yr', '60', '65', '7',\n",
       "       '6 cm/yr', '30 cm/yr', '60cm/yr', '50', '18', '36 cm/yr', '8',\n",
       "       '36', '10cm', '40 cm', '15cm/yr', '15 cm/yr', '1ft per year',\n",
       "       '7 cm', '100cm/yr', '10 cm/year', '70', '15 cm', '17.78', '4', '2',\n",
       "       '10cm/year', '1000000', '200', '7 cm/yr', '265', '0.1', '40',\n",
       "       '20 cm/yr', '60/1', '6', '80', '14', '5cm/yr', '16', '10^1 cm'],\n",
       "      dtype=object)"
      ]
     },
     "execution_count": 7,
     "metadata": {},
     "output_type": "execute_result"
    }
   ],
   "source": [
    "# take a look at unique values\n",
    "df[\"hair_growth\"].unique()"
   ]
  },
  {
   "cell_type": "code",
   "execution_count": 8,
   "metadata": {
    "slideshow": {
     "slide_type": "fragment"
    }
   },
   "outputs": [],
   "source": [
    "# standardize height column\n",
    "def standardize_hair(string):\n",
    "    \n",
    "    output = None\n",
    "    \n",
    "    # Basic string pre-processing\n",
    "    string = string.lower()\n",
    "    string = string.strip()\n",
    "\n",
    "    # take care of unique cases\n",
    "    string = string.replace(\"60/1\", \"60\")\n",
    "    string = string.replace(\"1ft per year\", \"30.48\")\n",
    "    string = string.replace(\"10^1.2\", \"15.8\")\n",
    "    string = string.replace(\"10^(1.2)\", \"15.8\")\n",
    "    string = string.replace(\"0.5 in/month\", \"6\")\n",
    "    \n",
    "    # remove commas\n",
    "    string = string.replace(\",\", \"\")\n",
    "    \n",
    "    # take care of inculded unit cases\n",
    "    string = string.replace(\"cm/year\", \"\")\n",
    "    string = string.replace(\"cm/yr\", \"\")\n",
    "    string = string.replace(\"yr\", \"\")\n",
    "    string = string.replace(\"cm\", \"\")    \n",
    "    string = string.replace(\"/\", \"\")\n",
    "\n",
    "    # handle scientific notation\n",
    "    string = string.replace(\"^3\", \"00\")\n",
    "    string = string.replace(\"^2\", \"0\")\n",
    "    string = string.replace(\"^1\", \"\")\n",
    "    string = string.replace(\"10^(-2)\", \"0.1\")\n",
    "    string = string.replace(\"10^-2\", \"0.1\")\n",
    "\n",
    "    string = string.strip()\n",
    "\n",
    "    # convert to numeric\n",
    "    output = float(string)\n",
    "    \n",
    "    return output"
   ]
  },
  {
   "cell_type": "code",
   "execution_count": 9,
   "metadata": {
    "slideshow": {
     "slide_type": "fragment"
    }
   },
   "outputs": [
    {
     "data": {
      "text/plain": [
       "array([2.000e+01, 2.500e+01, 1.000e+03, 6.000e+00, 8.100e+01, 1.500e+01,\n",
       "       1.000e+02, 3.000e+00, 1.000e+01, 1.200e+01, 3.000e+01, 5.000e+00,\n",
       "       2.400e+01, 1.900e+01, 1.600e+01, 1.700e+01, 4.800e+01, 6.000e+01,\n",
       "       6.500e+01, 7.000e+00, 5.000e+01, 1.800e+01, 3.600e+01, 8.000e+00,\n",
       "       4.000e+01, 3.048e+01, 7.000e+01, 1.778e+01, 4.000e+00, 2.000e+00,\n",
       "       1.000e+06, 2.000e+02, 2.650e+02, 1.000e-01, 8.000e+01, 1.400e+01])"
      ]
     },
     "execution_count": 9,
     "metadata": {},
     "output_type": "execute_result"
    }
   ],
   "source": [
    "# apply function across values in hair growth columns\n",
    "df[\"hair_growth\"] = df[\"hair_growth\"].apply(standardize_hair)\n",
    "df[\"hair_growth\"].unique()"
   ]
  },
  {
   "cell_type": "code",
   "execution_count": 10,
   "metadata": {
    "scrolled": true,
    "slideshow": {
     "slide_type": "fragment"
    }
   },
   "outputs": [
    {
     "data": {
      "text/plain": [
       "count        191.000000\n",
       "mean        5267.690262\n",
       "std        72355.168002\n",
       "min            0.100000\n",
       "25%           10.000000\n",
       "50%           16.000000\n",
       "75%           30.000000\n",
       "max      1000000.000000\n",
       "Name: hair_growth, dtype: float64"
      ]
     },
     "execution_count": 10,
     "metadata": {},
     "output_type": "execute_result"
    }
   ],
   "source": [
    "df['hair_growth'].describe()"
   ]
  },
  {
   "cell_type": "code",
   "execution_count": 11,
   "metadata": {
    "slideshow": {
     "slide_type": "fragment"
    }
   },
   "outputs": [
    {
     "data": {
      "text/plain": [
       "16.0"
      ]
     },
     "execution_count": 11,
     "metadata": {},
     "output_type": "execute_result"
    }
   ],
   "source": [
    "# compare to actual value: 15 cm/year (~6 in)\n",
    "df[\"hair_growth\"].median()"
   ]
  },
  {
   "cell_type": "markdown",
   "metadata": {
    "slideshow": {
     "slide_type": "slide"
    }
   },
   "source": [
    "## Cleaning: Crammed\n",
    "\n",
    "If every living person stood crammed together side-by-side, how large of an area would they occupy (km²)?"
   ]
  },
  {
   "cell_type": "code",
   "execution_count": 12,
   "metadata": {
    "scrolled": false,
    "slideshow": {
     "slide_type": "fragment"
    }
   },
   "outputs": [
    {
     "data": {
      "text/plain": [
       "array(['3500000', '1 million', '10^7 km^2', '1000km^2', '16875000000',\n",
       "       '10', '10^2', '250,000', '800000', '5,000,000', '7 * 10^7', '8000',\n",
       "       '750,000km^2', '10^4', '100', '10000', '10^5', '6,000,000,000,000',\n",
       "       '10^8', '1,000,000', '1000', '100,000', '4000',\n",
       "       '7,000,000,000,000', '7000000000', '1000000', '7,000,000,000',\n",
       "       '10^6', '100,000 km squared', '15', '599km^2', '3.5x10^9 km',\n",
       "       '7 x 10^7', '800', '1600000', '10000000', '10^5 km ^2', '2.4x10^7',\n",
       "       '130000 km squared', '4 quadrillion', '1500', '2133600000', '600',\n",
       "       '100,000,000', '700', '200', '100000', '10,000,000', '1000000km²',\n",
       "       '7000 km^2', '7 billion', '7mill km^2', '1.13 * 10^12',\n",
       "       '7 billion km^2', '2000', '2km square ', '3.2 * 10^10 km^2', '650',\n",
       "       '750,000', '1oo km^2', '10,000,000 km^2', '50', '2000000',\n",
       "       '2.4 km^2', 'The size of California ', '5 x 10^5', '10^10',\n",
       "       '1.39E-07', '10km^2', '10^3', '2500 km^2', '4200', '7.14x10^7',\n",
       "       '5,334,000 km^2', '9000', '2.00E+16', '7000', '1750', '20000',\n",
       "       '10^11', '7x(10^3)', '3.6 * 10^13', '4000000', '3.5*10^4',\n",
       "       '50,000,000', '9,000,000 km^2', '150,000', '2 * 10^7',\n",
       "       '70000000 km^2', '8*10^5', '5250', '1.0 x 10^10', '250,00',\n",
       "       '80 million', '580,000', '1000000000', '10^7', '10 * 10^7',\n",
       "       '10^6 km^2', '65', '25', '14700', '2,000,000', '1150000',\n",
       "       '110 billion', '10^20', '40*10^6', '20', '1,500 km^2', '1.96E+14',\n",
       "       '80000', '60000', '2*10^6', '175',\n",
       "       '10^-3km per person, 10^9 people on earth, answer: [10^6km]',\n",
       "       '650000', '2.4 *10', '100000km^2', '1500 km^2', '10^9', '1',\n",
       "       '700000', '5000', '8,000,000,000', '2500000', '500000'],\n",
       "      dtype=object)"
      ]
     },
     "execution_count": 12,
     "metadata": {},
     "output_type": "execute_result"
    }
   ],
   "source": [
    "df['crammed'].unique()"
   ]
  },
  {
   "cell_type": "code",
   "execution_count": 13,
   "metadata": {
    "slideshow": {
     "slide_type": "fragment"
    }
   },
   "outputs": [],
   "source": [
    "# standardize crammed column\n",
    "def standardize_crammed(string):\n",
    "    \n",
    "    orig = string\n",
    "    output = None\n",
    "    \n",
    "    # Basic string pre-processing\n",
    "    string = string.lower()\n",
    "    string = string.strip()\n",
    "    \n",
    "    # take care of commas\n",
    "    string = string.replace(\",\", \"\")\n",
    "\n",
    "    # take care of included unit cases\n",
    "    string = string.replace(\"(km^2)\", \"\")\n",
    "    string = string.replace(\"km^2\", \"\")\n",
    "    string = string.replace(\"km ^2\", \"\")\n",
    "    string = string.replace(\"km2\", \"\")\n",
    "    string = string.replace(\"km²\", \"\")\n",
    "    string = string.replace(\"km\", \"\")\n",
    "    string = string.replace(\"squared\", \"\")\n",
    "    string = string.replace(\"square\", \"\")\n",
    "    string = string.replace(\"sq\", \"\")\n",
    "    \n",
    "    # take care of various scientific notation cases\n",
    "    string = string.replace(\"1.13 * 10^12\", \"1130000000000\")\n",
    "    string = string.replace(\"2.4x10^7\", \"24000000\")\n",
    "    string = string.replace(\"3.5x10^9 \", \"3500000000\")\n",
    "    string = string.replace(\"2.4 *10\", \"24\")\n",
    "    string = string.replace(\"3.2 * 10^10 \", \"32000000000\")\n",
    "    string = string.replace(\"1oo\", \"100\")\n",
    "    string = string.replace(\"7.14x10^7\", \"71400000\")\n",
    "    string = string.replace(\"7x(10^3)\", \"7000\")\n",
    "    string = string.replace(\"3.6 * 10^13\", \"36000000000000\")\n",
    "    string = string.replace(\"3.5*10^4\", \"35000\")\n",
    "    string = string.replace(\"1.0 x 10^10\", \"10000000000\")\n",
    "   \n",
    "    # take care of general scientific notation\n",
    "    string = string.replace(\"x10^2\", \"00\")\n",
    "    string = string.replace(\"*(10^3)\", \"000\")\n",
    "    string = string.replace(\"10^2\", \"100\")\n",
    "    string = string.replace(\"10^3\", \"1000\")\n",
    "    string = string.replace(\"10^4\", \"10000\")\n",
    "    string = string.replace(\"*10^5\", \"00000\")\n",
    "    string = string.replace(\" x 10^5\", \"00000\")\n",
    "    string = string.replace(\"10^5\", \"100000\")\n",
    "    string = string.replace(\"*10^6\", \"000000\")\n",
    "    string = string.replace(\" × 10^6\", \"000000\")\n",
    "    string = string.replace(\"10^6\", \"1000000\")\n",
    "    string = string.replace(\" * 10^7\", \"0000000\")\n",
    "    string = string.replace(\" x 10^7\", \"0000000\")\n",
    "    string = string.replace(\"10^7\", \"10000000\")\n",
    "    string = string.replace(\"*10^8\", \"100000000\")\n",
    "    string = string.replace(\"10^8\", \"100000000\")\n",
    "    string = string.replace(\" x 10^9\", \"000000000\")\n",
    "    string = string.replace(\"x 10^9\", \"000000000\")\n",
    "    string = string.replace(\"10^9\", \"1000000000\")\n",
    "    string = string.replace(\"10^10\", \"1000000000\")\n",
    "    string = string.replace(\"10^11\", \"00000000000\")\n",
    "    string = string.replace(\"10^15\", \"1000000000000000\")\n",
    "    string = string.replace(\" x 10^9\", \"000000000\")\n",
    "    string = string.replace(\"10x1000000\", \"10000000\")\n",
    "\n",
    "    \n",
    "    # take care of unique word cases\n",
    "    string = string.replace(\"10^-3 per person 1000000000 people on earth answer: [1000000]\", \"1000000\")\n",
    "    string = string.replace(\" million\", \"000000\")\n",
    "    string = string.replace(\"mill\", \"000000\")\n",
    "    string = string.replace(\" billion\", \"000000000\")\n",
    "    string = string.replace(\" quadrillion\", \"000000000000000\")\n",
    "    string = string.replace(\"the size of california\", \"423970\")\n",
    "\n",
    "    # convert to numeric\n",
    "    output = float(string)\n",
    "    \n",
    "    return output"
   ]
  },
  {
   "cell_type": "code",
   "execution_count": 14,
   "metadata": {
    "scrolled": true,
    "slideshow": {
     "slide_type": "fragment"
    }
   },
   "outputs": [
    {
     "data": {
      "text/plain": [
       "array([3.5000e+06, 1.0000e+06, 1.0000e+07, 1.0000e+03, 1.6875e+10,\n",
       "       1.0000e+01, 1.0000e+02, 2.5000e+05, 8.0000e+05, 5.0000e+06,\n",
       "       7.0000e+07, 8.0000e+03, 7.5000e+05, 1.0000e+04, 1.0000e+05,\n",
       "       6.0000e+12, 1.0000e+08, 4.0000e+03, 7.0000e+12, 7.0000e+09,\n",
       "       1.5000e+01, 5.9900e+02, 3.5000e+09, 8.0000e+02, 1.6000e+06,\n",
       "       2.4000e+07, 1.3000e+05, 4.0000e+15, 1.5000e+03, 2.1336e+09,\n",
       "       6.0000e+02, 7.0000e+02, 2.0000e+02, 7.0000e+03, 7.0000e+06,\n",
       "       1.1300e+12, 2.0000e+03, 2.0000e+00, 3.2000e+10, 6.5000e+02,\n",
       "       5.0000e+01, 2.0000e+06, 2.4000e+00, 4.2397e+05, 5.0000e+05,\n",
       "       1.0000e+09, 1.3900e-07, 2.5000e+03, 4.2000e+03, 7.1400e+07,\n",
       "       5.3340e+06, 9.0000e+03, 2.0000e+16, 1.7500e+03, 2.0000e+04,\n",
       "       0.0000e+00, 3.6000e+13, 4.0000e+06, 3.5000e+04, 5.0000e+07,\n",
       "       9.0000e+06, 1.5000e+05, 2.0000e+07, 5.2500e+03, 1.0000e+10,\n",
       "       2.5000e+04, 8.0000e+07, 5.8000e+05, 6.5000e+01, 2.5000e+01,\n",
       "       1.4700e+04, 1.1500e+06, 1.1000e+11, 4.0000e+07, 2.0000e+01,\n",
       "       1.9600e+14, 8.0000e+04, 6.0000e+04, 1.7500e+02, 6.5000e+05,\n",
       "       2.4000e+01, 1.0000e+00, 7.0000e+05, 5.0000e+03, 8.0000e+09,\n",
       "       2.5000e+06])"
      ]
     },
     "execution_count": 14,
     "metadata": {},
     "output_type": "execute_result"
    }
   ],
   "source": [
    "# apply function across values in crammed columns\n",
    "df[\"crammed\"] = df[\"crammed\"].apply(standardize_crammed)\n",
    "df[\"crammed\"].unique()"
   ]
  },
  {
   "cell_type": "code",
   "execution_count": 15,
   "metadata": {
    "scrolled": false,
    "slideshow": {
     "slide_type": "fragment"
    }
   },
   "outputs": [
    {
     "data": {
      "text/plain": [
       "timestamp       object\n",
       "hair_growth    float64\n",
       "crammed        float64\n",
       "SAN_NYC         object\n",
       "dtype: object"
      ]
     },
     "execution_count": 15,
     "metadata": {},
     "output_type": "execute_result"
    }
   ],
   "source": [
    "df.dtypes"
   ]
  },
  {
   "cell_type": "code",
   "execution_count": 16,
   "metadata": {
    "slideshow": {
     "slide_type": "fragment"
    }
   },
   "outputs": [
    {
     "data": {
      "text/plain": [
       "100000.0"
      ]
     },
     "execution_count": 16,
     "metadata": {},
     "output_type": "execute_result"
    }
   ],
   "source": [
    "# compare to actual value: 1,000-10,000 km^2)\n",
    "df['crammed'].median()"
   ]
  },
  {
   "cell_type": "markdown",
   "metadata": {
    "slideshow": {
     "slide_type": "slide"
    }
   },
   "source": [
    "## Cleaning: San Diego to NYC\n",
    "\n",
    "How many days would it take to walk from here to New York City (assuming no stopping to fix shoes, apply sunscreen, or for sleeping, eating, or other biological needs)?"
   ]
  },
  {
   "cell_type": "code",
   "execution_count": 17,
   "metadata": {
    "scrolled": false,
    "slideshow": {
     "slide_type": "fragment"
    }
   },
   "outputs": [
    {
     "data": {
      "text/plain": [
       "array(['10', '50', '10^4', '200 days ', '28000', '200', '10^3', '100',\n",
       "       '29 days', '21', '2 years', '300', '180', 'forever', '35', '20',\n",
       "       '45', '12', '30', '150', '365', '78', '81 days', '42', '8 days',\n",
       "       '100 days (at 30mi/day)', '31', '35 days', '25 days', '36',\n",
       "       '1 week', '500', '120', '14', '100,000', '100 days', '200 Days',\n",
       "       '90', '300 days', '1000', '6 months', '30 days ', '38 days', '40',\n",
       "       '1000 days ', '30 days', '140', '36000 minutes', '950', '400',\n",
       "       '2 months ', '7', '10^2', '2 days', '11 days', '17 days', '182',\n",
       "       '1 1/2 months', '9', '2 months', '48', '14 days', '70 days', '60',\n",
       "       '250', '36,500', '41', '15', '833', '46', '40 days', '52', '70',\n",
       "       '69', '280', '3 years', '43', '1200', '1,500', '28', '1.8 * 10',\n",
       "       '3 months', '25', '50 days', '10^5', '6 days ', '1300',\n",
       "       '42 (I\\'m assuming \"here\" means ucsd)', '240'], dtype=object)"
      ]
     },
     "execution_count": 17,
     "metadata": {},
     "output_type": "execute_result"
    }
   ],
   "source": [
    "df['SAN_NYC'].unique()"
   ]
  },
  {
   "cell_type": "code",
   "execution_count": 18,
   "metadata": {
    "slideshow": {
     "slide_type": "fragment"
    }
   },
   "outputs": [],
   "source": [
    "# standardize distance column\n",
    "def standardize_distance(string):\n",
    "    \n",
    "    orig = string\n",
    "    output = None\n",
    "    \n",
    "    # Basic string pre-processing\n",
    "    string = string.lower()\n",
    "    string = string.strip()\n",
    "    \n",
    "    # take care of special/unclear cases\n",
    "    string = string.replace(\"forever\", \"NaN\")\n",
    "    string = string.replace('42 (i\\'m assuming \"here\" means ucsd)', \"42\")\n",
    "    string = string.replace(\"100 days (at 30mi/day)\", \"100\")\n",
    "    string = string.replace(\"1.8 * 10\", \"18\")\n",
    "\n",
    "    # remove units\n",
    "    string = string.replace(\"days\", \"\")\n",
    "\n",
    "    # take care of non-days answers\n",
    "    string = string.replace(\"3 years\", \"1095\")\n",
    "    string = string.replace(\"2 years\", \"730\")\n",
    "    string = string.replace(\"1 1/2 months\", \"45\")\n",
    "    string = string.replace(\"3 months\", \"92\")\n",
    "    string = string.replace(\"2 months\", \"61\")\n",
    "    string = string.replace(\"6 months\", \"180\")\n",
    "    string = string.replace(\"1 week\", \"7\")\n",
    "    string = string.replace(\"36000 minutes\", \"25\")\n",
    "\n",
    "    \n",
    "    # take care of 'punctuation'\n",
    "    string = string.replace(\",\", \"\")\n",
    "    \n",
    "    # take care of scientific notation \n",
    "    string = string.replace(\"10^2\", \"100\")\n",
    "    string = string.replace(\"10^3\", \"1000\")\n",
    "    string = string.replace(\"10^4\", \"10000\")\n",
    "    string = string.replace(\"10^5\", \"100000\")\n",
    "\n",
    "    \n",
    "    string = string.strip()\n",
    "\n",
    "    # convert to numeric\n",
    "    output = float(string)\n",
    "    \n",
    "    return output"
   ]
  },
  {
   "cell_type": "code",
   "execution_count": 19,
   "metadata": {
    "scrolled": true,
    "slideshow": {
     "slide_type": "fragment"
    }
   },
   "outputs": [
    {
     "data": {
      "text/plain": [
       "array([1.000e+01, 5.000e+01, 1.000e+04, 2.000e+02, 2.800e+04, 1.000e+03,\n",
       "       1.000e+02, 2.900e+01, 2.100e+01, 7.300e+02, 3.000e+02, 1.800e+02,\n",
       "             nan, 3.500e+01, 2.000e+01, 4.500e+01, 1.200e+01, 3.000e+01,\n",
       "       1.500e+02, 3.650e+02, 7.800e+01, 8.100e+01, 4.200e+01, 8.000e+00,\n",
       "       3.100e+01, 2.500e+01, 3.600e+01, 7.000e+00, 5.000e+02, 1.200e+02,\n",
       "       1.400e+01, 1.000e+05, 9.000e+01, 3.800e+01, 4.000e+01, 1.400e+02,\n",
       "       9.500e+02, 4.000e+02, 6.100e+01, 2.000e+00, 1.100e+01, 1.700e+01,\n",
       "       1.820e+02, 9.000e+00, 4.800e+01, 7.000e+01, 6.000e+01, 2.500e+02,\n",
       "       3.650e+04, 4.100e+01, 1.500e+01, 8.330e+02, 4.600e+01, 5.200e+01,\n",
       "       6.900e+01, 2.800e+02, 1.095e+03, 4.300e+01, 1.200e+03, 1.500e+03,\n",
       "       2.800e+01, 1.800e+01, 9.200e+01, 6.000e+00, 1.300e+03, 2.400e+02])"
      ]
     },
     "execution_count": 19,
     "metadata": {},
     "output_type": "execute_result"
    }
   ],
   "source": [
    "# apply function across values in crammed columns\n",
    "df[\"SAN_NYC\"] = df[\"SAN_NYC\"].apply(standardize_distance)\n",
    "df[\"SAN_NYC\"].unique()"
   ]
  },
  {
   "cell_type": "code",
   "execution_count": 20,
   "metadata": {
    "scrolled": true,
    "slideshow": {
     "slide_type": "fragment"
    }
   },
   "outputs": [
    {
     "data": {
      "text/plain": [
       "69.5"
      ]
     },
     "execution_count": 20,
     "metadata": {},
     "output_type": "execute_result"
    }
   ],
   "source": [
    "# compare to actual value: 38 days)\n",
    "df['SAN_NYC'].median()"
   ]
  },
  {
   "cell_type": "markdown",
   "metadata": {
    "slideshow": {
     "slide_type": "slide"
    }
   },
   "source": [
    "## Take Home Messages\n",
    "\n",
    "1. Look at your data! (People behave unexpectedly.)\n",
    "2. Get your data into a tidy data format.\n",
    "3. Fix (Standardize) your data - or, better yet, collect better data!\n",
    "4. Use your intuition/knowledge/information out there to consider if values make sense."
   ]
  }
 ],
 "metadata": {
  "celltoolbar": "Slideshow",
  "kernelspec": {
   "display_name": "Python 3",
   "language": "python",
   "name": "python3"
  },
  "language_info": {
   "codemirror_mode": {
    "name": "ipython",
    "version": 3
   },
   "file_extension": ".py",
   "mimetype": "text/x-python",
   "name": "python",
   "nbconvert_exporter": "python",
   "pygments_lexer": "ipython3",
   "version": "3.7.9"
  },
  "rise": {
   "scroll": true
  }
 },
 "nbformat": 4,
 "nbformat_minor": 2
}
